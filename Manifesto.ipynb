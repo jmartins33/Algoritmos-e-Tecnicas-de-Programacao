{
 "cells": [
  {
   "cell_type": "markdown",
   "id": "248a1d8d",
   "metadata": {},
   "source": [
    "# TPC8\n",
    "## Manifesto\n",
    "* Título: TPC8 - \" Interface de uma app com funcionalidades num dataset de exames médicos\"\n",
    "\n",
    "* Data de ínicio : 2021-12-3\n",
    "\n",
    "* Data do fim : 2021-12-5\n",
    "\n",
    "* Supervisor : José Carlos Ramalho - http://www.di.uminho.pt/~jcr/\n",
    "\n",
    "* Autor: Jorge Miguel Ribeiro Martins - A97096\n",
    "\n",
    "* Resumo:\n",
    "\n",
    "Este trabalho consistiu em criar um interface para uma aplicação que tem umas funcionalidades definidas __(Carregar,Listar,Modalidades,Por ano e Por Clube)__ sobre um _dataset_ de 100 exames médicos.\n",
    "\n",
    "Esta interface tem 2 colunas, separadas por uma linha vertical criada através do método _sg.VSeperator()_ em que a coluna da esquerda tem as funcionalidades referidas em cima e a da direita tem uma caixa de texto e uma _Listbox_, sendo que a primeira irá mostrar uma mensagem informativa sobre o que está a acontecer, enquanto que a segunda poderá em alguns casos ser o local onde se encontra o que o utilizador pretende saber.\n",
    "\n",
    "No __Carregar__ aparece uma mensagem que informa o utilizador que a base de dados com os registos está a ser carregada, no __Listar__ temos a listagem por ordem cronológica decrescente de todos os exames médicos disponíveis, esta listagem aparece na _Listbox_ pois a mesma usa um scroll prático, para podemos ver os registos todos mais facilmente, ao contrário da caixa de texto, que com qual tive problemas para mostrar todos os registos, como pode ver foi feita uma pequena alteração a função do _listarDataset_ em vez de prints, introduzimos essas informações numa lista __parametros__, que é a usada na _Listbox_.\n",
    "\n",
    "Em __Modalidades__ temos a lista de modalidades dos atletas testados, novamente temos a lista __parametros__ que toma um novo valor, que é a lista criada na função _modalidades_.\n",
    "\n",
    "Em __Por ano__ e __Por clube__, o utilizador recebe um _pop-up_ que é distribuição por um grafico de barras dos exames médicos tendo em conta o parâmetro definido (ano ou clube), nestas funcionalidades,o objetivo não foi bem cumprido, pois apesar de abrir a janela com o gráfico pretendido, é um _pop-up_ do módulo _matplotlib_ e não da app em si."
   ]
  },
  {
   "cell_type": "code",
   "execution_count": null,
   "id": "6855ecfb",
   "metadata": {},
   "outputs": [],
   "source": []
  }
 ],
 "metadata": {
  "kernelspec": {
   "display_name": "Python 3",
   "language": "python",
   "name": "python3"
  },
  "language_info": {
   "codemirror_mode": {
    "name": "ipython",
    "version": 3
   },
   "file_extension": ".py",
   "mimetype": "text/x-python",
   "name": "python",
   "nbconvert_exporter": "python",
   "pygments_lexer": "ipython3",
   "version": "3.8.8"
  }
 },
 "nbformat": 4,
 "nbformat_minor": 5
}
