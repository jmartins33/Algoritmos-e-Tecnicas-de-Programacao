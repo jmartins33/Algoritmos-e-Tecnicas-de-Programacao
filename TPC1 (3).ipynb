{
 "cells": [
  {
   "cell_type": "code",
   "execution_count": null,
   "id": "e7d42a9e",
   "metadata": {},
   "outputs": [],
   "source": [
    "import random\n",
    "def fosf():\n",
    "   o=input(\"Você prefere jogar em primeiro ou em segundo lugar?\" \"Escreva p para começar ou s para o computador começar.\")\n",
    "   if o==\"p\":\n",
    "      def fosforo():\n",
    "         a=21\n",
    "         while a>1:\n",
    "           x=int(input(\"Escolha quantos fósforos quer retirar (entre 1 e 4 fósforos) :\"))\n",
    "           while (x<1 or x>4 or x>a):\n",
    "                print(\"Número inválido!\")\n",
    "                x=int(input(\"Escolha quantos fósforos quer retirar (entre 1 e 4 fósforos) :\"))\n",
    "                if (x<1 or x>4 or x>a) is not True:\n",
    "                    break \n",
    "           z=5-x\n",
    "           a=a-5\n",
    "           print(\"O computador retirou\",z,\"fósforos e ainda existem\",a,\"fósforos para retirar.\")\n",
    "         if a==1:\n",
    "           print(\"O computador ganhou!\") \n",
    "      fosforo()    \n",
    "   if o==\"s\":\n",
    "        def fosforo2():\n",
    "          a=21\n",
    "          while a>5:\n",
    "             y=random.randint(1,4)\n",
    "             a=a-y\n",
    "             print(\"O computador retirou\",y,\"fósforos, neste momento existem\",a,\"fosforos.\")\n",
    "             x=int(input(\"Escolha quantos fósforos quer retirar (entre 1 e 4 fósforos) :\"))\n",
    "             while (x<1 or x>4 or x>a):\n",
    "                print(\"Número inválido!\")\n",
    "                x=int(input(\"Escolha quantos fósforos quer retirar (entre 1 e 4 fósforos) :\"))\n",
    "                if (x<1 or x>4 or x>a) is not True:\n",
    "                    break\n",
    "             if a==1:\n",
    "                 print(\"O jogador ganhou!\")\n",
    "             else:\n",
    "                 a=a-x\n",
    "          if a>1 and a<6:\n",
    "             print(\"Neste momento existem\",a,\"fosforos\")\n",
    "             b=a-1\n",
    "             a=a-b\n",
    "             print(\"O computador retirou\",b,\"fosforos,neste momento existem\",a,\"fósforos.\")\n",
    "             print(\"O computador ganhou!\")\n",
    "        fosforo2()\n",
    "fosf()\n",
    "e=2\n",
    "while e==2:\n",
    "   nov=input(\"Quer jogar novamente? Escreva s se for o caso, senão escreva n.\" ,)\n",
    "   if nov==\"s\":\n",
    "      fosf()\n",
    "   if nov==\"n\":\n",
    "      print(\"Obrigado pelo seu tempo!\")\n",
    "      break"
   ]
  }
 ],
 "metadata": {
  "kernelspec": {
   "display_name": "Python 3",
   "language": "python",
   "name": "python3"
  },
  "language_info": {
   "codemirror_mode": {
    "name": "ipython",
    "version": 3
   },
   "file_extension": ".py",
   "mimetype": "text/x-python",
   "name": "python",
   "nbconvert_exporter": "python",
   "pygments_lexer": "ipython3",
   "version": "3.8.8"
  }
 },
 "nbformat": 4,
 "nbformat_minor": 5
}
