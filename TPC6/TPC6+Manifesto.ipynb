{
 "cells": [
  {
   "cell_type": "code",
   "execution_count": 2,
   "id": "e773167d",
   "metadata": {},
   "outputs": [
    {
     "data": {
      "image/png": "[encoded data removed]",
      "text/plain": [
       "<Figure size 432x288 with 1 Axes>"
      ]
     },
     "metadata": {
      "needs_background": "light"
     },
     "output_type": "display_data"
    }
   ],
   "source": [
    "\n",
    "import matplotlib.pyplot as plt\n",
    "import polinomio as pol\n",
    "\n",
    "\n",
    "\n",
    " \n",
    "\n",
    "x = [-2.5, 2.5, 2.5, -2.5, -2.5] \n",
    "y = [2.5, 2.5, -2.5, -2.5, 2.5]\n",
    "plt.plot(x, y, label = \"quadrado\")\n",
    "plt.xlabel('x')\n",
    "plt.ylabel('y')\n",
    "plt.title('Quadrado')\n",
    "\n",
    "\n",
    " \n",
    "plt.show()"
   ]
  },
  {
   "cell_type": "markdown",
   "id": "ccfcb5c0",
   "metadata": {},
   "source": [
    "# TPC6\n",
    "## Manifesto\n",
    "* Título: TPC6 - \" Representação de gráficos\"\n",
    "\n",
    "* Data de ínicio : 2021-11-20\n",
    "\n",
    "* Data do fim : 2021-11-21\n",
    "\n",
    "* Supervisor : José Carlos Ramalho - http://www.di.uminho.pt/~jcr/\n",
    "\n",
    "* Autor: Jorge Miguel Ribeiro Martins - A97096\n",
    "\n",
    "*Resumo: \n",
    "\n",
    "Através da função _plot_ do módulo _matploblib.pyplot_, primeiro para fazer o quadrado fazendo as linhas entre os pontos considerados em sequência, e é repetido o último ponto para fechar o quadrado, através do _.label_ denominamos cada variável __(x e y)__ e _.title_ para o título _(Quadrado)_."
   ]
  },
  {
   "cell_type": "code",
   "execution_count": null,
   "id": "5f4ee699",
   "metadata": {},
   "outputs": [],
   "source": []
  }
 ],
 "metadata": {
  "kernelspec": {
   "display_name": "Python 3",
   "language": "python",
   "name": "python3"
  },
  "language_info": {
   "codemirror_mode": {
    "name": "ipython",
    "version": 3
   },
   "file_extension": ".py",
   "mimetype": "text/x-python",
   "name": "python",
   "nbconvert_exporter": "python",
   "pygments_lexer": "ipython3",
   "version": "3.8.8"
  }
 },
 "nbformat": 4,
 "nbformat_minor": 5
}
