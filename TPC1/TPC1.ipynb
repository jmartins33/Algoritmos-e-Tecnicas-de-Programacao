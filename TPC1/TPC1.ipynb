{
 "cells": [
  {
   "cell_type": "code",
   "execution_count": 1,
   "id": "d22fd0ac",
   "metadata": {},
   "outputs": [
    {
     "name": "stdout",
     "output_type": "stream",
     "text": [
      "Você prefere jogar em primeiro ou em segundo lugar?Escreva p para começar ou s para o computador começar.s\n",
      "O computador retirou 4 fósforos, neste momento existem 17 fosforos.\n",
      "Escolha quantos fósforos quer retirar (entre 1 e 4 fósforos) :3\n",
      "O computador retirou 1 fósforos, neste momento existem 13 fosforos.\n",
      "Escolha quantos fósforos quer retirar (entre 1 e 4 fósforos) :2\n",
      "O computador retirou 1 fósforos, neste momento existem 10 fosforos.\n",
      "Escolha quantos fósforos quer retirar (entre 1 e 4 fósforos) :4\n",
      "O computador retirou 4 fósforos, neste momento existem 2 fosforos.\n",
      "Escolha quantos fósforos quer retirar (entre 1 e 4 fósforos) :1\n",
      "O jogador ganhou!\n"
     ]
    }
   ],
   "source": [
    "import random\n",
    "\n",
    "o=input(\"Você prefere jogar em primeiro ou em segundo lugar?\" \"Escreva p para começar ou s para o computador começar.\")\n",
    "if o==\"p\":\n",
    "   def fosforo():\n",
    "      a=21\n",
    "      while a>1:\n",
    "          x=int(input(\"Escolha quantos fósforos quer retirar (entre 1 e 4 fósforos) :\"))\n",
    "          z=5-x\n",
    "          a=a-5\n",
    "          print(\"O computador retirou\",z,\"fósforos e ainda existem\",a,\"fósforos para retirar.\")\n",
    "      else:\n",
    "          print(\"O computador ganhou!\")\n",
    "   fosforo()\n",
    "\n",
    "if o==\"s\":\n",
    "   def fosforo2():\n",
    "      a=21\n",
    "      while a>5:\n",
    "          y=random.randint(1,4)\n",
    "          a=a-y\n",
    "          print(\"O computador retirou\",y,\"fósforos, neste momento existem\",a,\"fosforos.\")\n",
    "          x=int(input(\"Escolha quantos fósforos quer retirar (entre 1 e 4 fósforos) :\"))\n",
    "          a=a-x\n",
    "          if a==1:\n",
    "              print(\"O jogador ganhou!\")\n",
    "      if a>1 and a<6:\n",
    "          print(\"Neste momento existem\",a,\"fosforos\")\n",
    "          b=a-1\n",
    "          a=a-b\n",
    "          print(\"O computador retirou\",b,\"fosforos,neste momento existem\",a,\"fósforos.\")\n",
    "          print(\"O computador ganhou!\")\n",
    "      \n",
    "   fosforo2()"
   ]
  },
  {
   "cell_type": "code",
   "execution_count": null,
   "id": "f950aad3",
   "metadata": {},
   "outputs": [],
   "source": []
  }
 ],
 "metadata": {
  "kernelspec": {
   "display_name": "Python 3",
   "language": "python",
   "name": "python3"
  },
  "language_info": {
   "codemirror_mode": {
    "name": "ipython",
    "version": 3
   },
   "file_extension": ".py",
   "mimetype": "text/x-python",
   "name": "python",
   "nbconvert_exporter": "python",
   "pygments_lexer": "ipython3",
   "version": "3.8.8"
  }
 },
 "nbformat": 4,
 "nbformat_minor": 5
}
