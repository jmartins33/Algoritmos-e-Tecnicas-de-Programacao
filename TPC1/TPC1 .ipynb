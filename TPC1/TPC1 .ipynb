{
 "cells": [
  {
   "cell_type": "code",
   "execution_count": 2,
   "id": "fd2e591d",
   "metadata": {},
   "outputs": [
    {
     "name": "stdout",
     "output_type": "stream",
     "text": [
      "Você prefere jogar em primeiro ou em segundo lugar?Escreva p para começar ou s para o computador começar.p\n",
      "Escolha quantos fósforos quer retirar (entre 1 e 4 fósforos) :3\n",
      "O computador retirou 2 fósforos e ainda existem 16 fósforos para retirar.\n",
      "Escolha quantos fósforos quer retirar (entre 1 e 4 fósforos) :7\n",
      "Número inválido!\n",
      "Escolha quantos fósforos quer retirar (entre 1 e 4 fósforos) :1\n",
      "O computador retirou 4 fósforos e ainda existem 11 fósforos para retirar.\n",
      "Escolha quantos fósforos quer retirar (entre 1 e 4 fósforos) :3\n",
      "O computador retirou 2 fósforos e ainda existem 6 fósforos para retirar.\n",
      "Escolha quantos fósforos quer retirar (entre 1 e 4 fósforos) :4\n",
      "O computador retirou 1 fósforos e ainda existem 1 fósforos para retirar.\n",
      "O computador ganhou!\n",
      "Quer jogar novamente? Escreva s se for o caso, senão escreva ns\n",
      "Você prefere jogar em primeiro ou em segundo lugar?Escreva p para começar ou s para o computador começar.s\n",
      "O computador retirou 2 fósforos, neste momento existem 19 fosforos.\n",
      "Escolha quantos fósforos quer retirar (entre 1 e 4 fósforos) :4\n",
      "O computador retirou 4 fósforos, neste momento existem 11 fosforos.\n",
      "Escolha quantos fósforos quer retirar (entre 1 e 4 fósforos) :2\n",
      "O computador retirou 4 fósforos, neste momento existem 5 fosforos.\n",
      "Escolha quantos fósforos quer retirar (entre 1 e 4 fósforos) :3\n",
      "Neste momento existem 2 fosforos\n",
      "O computador retirou 1 fosforos,neste momento existem 1 fósforos.\n",
      "O computador ganhou!\n"
     ]
    }
   ],
   "source": [
    "import random\n",
    "def fosf():\n",
    "   o=input(\"Você prefere jogar em primeiro ou em segundo lugar?\" \"Escreva p para começar ou s para o computador começar.\")\n",
    "   if o==\"p\":\n",
    "      def fosforo():\n",
    "         a=21\n",
    "         while a>1:\n",
    "           x=int(input(\"Escolha quantos fósforos quer retirar (entre 1 e 4 fósforos) :\"))\n",
    "           while (x<1 or x>4 or x>a):\n",
    "                print(\"Número inválido!\")\n",
    "                x=int(input(\"Escolha quantos fósforos quer retirar (entre 1 e 4 fósforos) :\"))\n",
    "                if (x<1 or x>4 or x>a) is not True:\n",
    "                    break \n",
    "           z=5-x\n",
    "           a=a-5\n",
    "           print(\"O computador retirou\",z,\"fósforos e ainda existem\",a,\"fósforos para retirar.\")\n",
    "         if a==1:\n",
    "           print(\"O computador ganhou!\") \n",
    "      fosforo()    \n",
    "   if o==\"s\":\n",
    "        def fosforo2():\n",
    "          a=21\n",
    "          while a>5:\n",
    "             y=random.randint(1,4)\n",
    "             a=a-y\n",
    "             print(\"O computador retirou\",y,\"fósforos, neste momento existem\",a,\"fosforos.\")\n",
    "             x=int(input(\"Escolha quantos fósforos quer retirar (entre 1 e 4 fósforos) :\"))\n",
    "             while (x<1 or x>4 or x>a):\n",
    "                print(\"Número inválido!\")\n",
    "                x=int(input(\"Escolha quantos fósforos quer retirar (entre 1 e 4 fósforos) :\"))\n",
    "                if (x<1 or x>4 or x>a) is not True:\n",
    "                    break\n",
    "             if a==1:\n",
    "                 print(\"O jogador ganhou!\")\n",
    "             else:\n",
    "                 a=a-x\n",
    "          if a>1 and a<6:\n",
    "             print(\"Neste momento existem\",a,\"fosforos\")\n",
    "             b=a-1\n",
    "             a=a-b\n",
    "             print(\"O computador retirou\",b,\"fosforos,neste momento existem\",a,\"fósforos.\")\n",
    "             print(\"O computador ganhou!\")\n",
    "        fosforo2()\n",
    "fosf()\n",
    "nov=input(\"Quer jogar novamente? Escreva s se for o caso, senão escreva n\",)\n",
    "if nov==\"s\":\n",
    "    fosf()\n",
    "if nov==\"n\":\n",
    "   print(\"Obrigado pelo seu tempo!\")\n",
    "   "
   ]
  },
  {
   "cell_type": "code",
   "execution_count": null,
   "id": "d0d44b2a",
   "metadata": {},
   "outputs": [],
   "source": []
  }
 ],
 "metadata": {
  "kernelspec": {
   "display_name": "Python 3",
   "language": "python",
   "name": "python3"
  },
  "language_info": {
   "codemirror_mode": {
    "name": "ipython",
    "version": 3
   },
   "file_extension": ".py",
   "mimetype": "text/x-python",
   "name": "python",
   "nbconvert_exporter": "python",
   "pygments_lexer": "ipython3",
   "version": "3.8.8"
  }
 },
 "nbformat": 4,
 "nbformat_minor": 5
}
