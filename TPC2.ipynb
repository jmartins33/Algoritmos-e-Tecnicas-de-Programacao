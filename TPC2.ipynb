{
 "cells": [
  {
   "cell_type": "code",
   "execution_count": null,
   "id": "84386f2e",
   "metadata": {},
   "outputs": [],
   "source": [
    "def adivinha():\n",
    "    nu=50\n",
    "    i=50\n",
    "    contador=0\n",
    "    encontrado=False\n",
    "    while encontrado==False:\n",
    "        print(\"O teu número é o\",i,\"?\")\n",
    "        a=input(\"Se for o caso, escreva s, se não n.\")\n",
    "        if a==\"s\":\n",
    "            encontrado=True\n",
    "        else:\n",
    "            b=input(\"\"\"Maior ou menor?\n",
    "Digite M se for maior ou m se for menor.\"\"\")   \n",
    "            if b==\"M\":\n",
    "              nu=nu/2\n",
    "              if nu==12.5:\n",
    "                 nu=13\n",
    "              nu=int(\"%.0f\" % nu)\n",
    "              i=i+nu\n",
    "            if b==\"m\":\n",
    "              nu=nu/2\n",
    "              if nu==12.5:\n",
    "                 nu=13\n",
    "              nu=int(\"%.0f\" % nu)\n",
    "              i=i-nu\n",
    "        contador=contador+1\n",
    "    print(\"O computador adivinhou o teu número, o número\",i,\",após\",contador,\"tentativas.\")\n",
    "adivinha()"
   ]
  },
  {
   "cell_type": "markdown",
   "id": "736604ae",
   "metadata": {},
   "source": [
    "# TPC2\n",
    "## Manifesto\n",
    "* Título: TPC2 - \"Adivinha o meu número\"\n",
    "* Data de ínicio : 2021-10-13\n",
    "* Data do fim : 2021-10-17\n",
    "* Supervisor : José Carlos Ramalho - <http://www.di.uminho.pt/~jcr/>\n",
    "* Autor: Jorge Miguel Ribeiro Martins - A97096\n",
    "* Resumo: \n",
    "    Este programa feito em _Python_ permite fazer um pequeno jogo em que o computador __tenta__ e consegue adivinhar o número em que o jogador está a pensar.\n",
    "    Neste programa, o computador faz sempre o mesmo conjunto de perguntas até encontrar o número, __Se o número é \"x\"__ e se não for __Se é maior ou menor que \"x\"__, no fim verificamos também o número de tentativas que o computador fez até chegar ao número.\n",
    "    O programa usa um ciclo _while_ que quebra mal encontre o número em questão, para isso usa uma condição que é inicialmente __falsa__ e só se torna verdadeira quando o encontrar, assim pondo um fim ao ciclo.\n",
    "    As tentativas deste programa seguem todas o mesmo padrão, a primeira será sempre __50__, e depois somamos ou subtraimos a esse 50, 25 que é 50/2, então seguimos este padrão em que somamos ou subtraimos à tentativa anterior __(25,13,6,3,2,1)__, dependendo da fase em que está no ciclo _while_.\n",
    "    Por fim, o programa tem um contador que soma 1 a cada tentativa feita, assim contando as tentativas até adivinhar o número."
   ]
  },
  {
   "cell_type": "code",
   "execution_count": null,
   "id": "dc614bab",
   "metadata": {},
   "outputs": [],
   "source": []
  }
 ],
 "metadata": {
  "kernelspec": {
   "display_name": "Python 3",
   "language": "python",
   "name": "python3"
  },
  "language_info": {
   "codemirror_mode": {
    "name": "ipython",
    "version": 3
   },
   "file_extension": ".py",
   "mimetype": "text/x-python",
   "name": "python",
   "nbconvert_exporter": "python",
   "pygments_lexer": "ipython3",
   "version": "3.8.8"
  }
 },
 "nbformat": 4,
 "nbformat_minor": 5
}
